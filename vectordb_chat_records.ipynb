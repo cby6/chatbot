{
 "cells": [
  {
   "cell_type": "code",
   "execution_count": 1,
   "id": "1f4afb1a-1e53-49e4-bec3-09b243705396",
   "metadata": {},
   "outputs": [],
   "source": [
    "import qdrant_client as qc\n",
    "import qdrant_client.http.models as qmodels\n",
    "import uuid\n",
    "import csv\n",
    "import openai\n",
    "import os\n",
    "import gradio as gr\n",
    "\n",
    "os.environ[\"OPENAI_API_KEY\"] = ' '\n",
    "openai.api_key = os.environ[\"OPENAI_API_KEY\"]\n",
    "\n",
    "client = qc.QdrantClient(url=\"localhost\")\n",
    "METRIC = qmodels.Distance.DOT\n",
    "DIMENSION = 1536\n",
    "\n",
    "MODEL = \"text-embedding-ada-002\"\n",
    "\n",
    "def embed_text(text):\n",
    "    response = openai.Embedding.create(\n",
    "        input=text,\n",
    "        model=MODEL\n",
    "    )\n",
    "    embeddings = response['data'][0]['embedding']\n",
    "    return embeddings\n",
    "\n",
    "def create_index(collection_name):\n",
    "    client.recreate_collection(\n",
    "    collection_name=collection_name,\n",
    "    vectors_config = qmodels.VectorParams(\n",
    "            size=DIMENSION,\n",
    "            distance=METRIC,\n",
    "        )\n",
    "    )\n",
    "\n",
    "\n",
    "def delete_index(collection_name):\n",
    "    client.delete_collection(collection_name=collection_name)\n",
    "    \n",
    "def create_vector(content):\n",
    "    vector = embed_text(content)\n",
    "    id = str(uuid.uuid1().int)[:32]\n",
    "    payload = {\n",
    "        \"text\": content\n",
    "    }\n",
    "    return id, vector, payload\n",
    "\n",
    "def add_doc_to_index(collection_name, content):\n",
    "    ids = []\n",
    "    vectors = []\n",
    "    payloads = []\n",
    "    \n",
    "    _id, vector, payload = create_vector(content)\n",
    "    ids.append(_id)\n",
    "    vectors.append(vector)\n",
    "    payloads.append(payload)\n",
    "\n",
    "    client.upsert(\n",
    "        collection_name=collection_name,\n",
    "        points=qmodels.Batch(\n",
    "            ids = ids,\n",
    "            vectors=vectors,\n",
    "            payloads=payloads\n",
    "        ),\n",
    "    )\n",
    "    \n",
    "def query_index(collection_name, query, top_k=30):\n",
    "    vector = embed_text(query)\n",
    "    \n",
    "    results = client.search(\n",
    "        collection_name=collection_name,\n",
    "        query_vector=vector,\n",
    "        # query_filter=_filter,\n",
    "        limit=top_k,\n",
    "        with_payload=True,\n",
    "        # search_params=_search_params,\n",
    "    )\n",
    "\n",
    "    results = [\n",
    "        (\n",
    "            res.payload[\"text\"],\n",
    "            res.score,\n",
    "        )\n",
    "        for res in results\n",
    "    ]\n",
    "\n",
    "    return results"
   ]
  },
  {
   "cell_type": "code",
   "execution_count": 4,
   "id": "27236e9b-0804-4746-87bc-d014b17e5011",
   "metadata": {},
   "outputs": [],
   "source": [
    "from datetime import datetime\n",
    "\n",
    "i = 0\n",
    "queries = []\n",
    "rating_option = ['1','','-1']\n",
    "\n",
    "\n",
    "delete_index('chat_records')\n",
    "create_index('chat_records')\n",
    "with open('Chat Records.csv') as f:\n",
    "    reader = csv.reader(f, delimiter=',')\n",
    "    next(reader)\n",
    "    for row in reader:\n",
    "        prompt = row[0]\n",
    "        rating = row[2]\n",
    "        reason = row[3]\n",
    "        created_at = datetime.strptime(row[5][:19], '%Y-%m-%d %H:%M:%S')\n",
    "        if created_at > datetime.strptime('2023-07-04 14:00:00', '%Y-%m-%d %H:%M:%S') and rating in rating_option:\n",
    "            queries.append(prompt)\n",
    "            \n",
    "queries = set(queries)\n",
    "for q in queries:\n",
    "    add_doc_to_index('chat_records', q)"
   ]
  },
  {
   "cell_type": "code",
   "execution_count": 5,
   "id": "481af4f3-748e-4d21-b3c9-89dcd3d438ec",
   "metadata": {},
   "outputs": [
    {
     "name": "stdout",
     "output_type": "stream",
     "text": [
      "Running on local URL:  http://127.0.0.1:7864\n",
      "Running on public URL: https://59f66ef82396ebf3d5.gradio.live\n",
      "\n",
      "This share link expires in 72 hours. For free permanent hosting and GPU upgrades, run `gradio deploy` from Terminal to deploy to Spaces (https://huggingface.co/spaces)\n"
     ]
    },
    {
     "data": {
      "text/html": [
       "<div><iframe src=\"https://59f66ef82396ebf3d5.gradio.live\" width=\"100%\" height=\"500\" allow=\"autoplay; camera; microphone; clipboard-read; clipboard-write;\" frameborder=\"0\" allowfullscreen></iframe></div>"
      ],
      "text/plain": [
       "<IPython.core.display.HTML object>"
      ]
     },
     "metadata": {},
     "output_type": "display_data"
    },
    {
     "data": {
      "text/plain": []
     },
     "execution_count": 5,
     "metadata": {},
     "output_type": "execute_result"
    }
   ],
   "source": [
    "with gr.Blocks() as demo:\n",
    "    with gr.Row():\n",
    "        md0 = gr.Markdown(\"\"\"Hi, I will find top 30 user chat records that are most relevant to your sentence or word ^^\"\"\")\n",
    "        \n",
    "    with gr.Row(visible=True) as r1:\n",
    "        sentence = gr.Textbox(label=\"Enter your sentence or word\", placeholder=\"is it dangerous to hike under a thunder storm?\")\n",
    "            \n",
    "    with gr.Row(visible=True) as r2:\n",
    "        button = gr.Button(\"Continue\")\n",
    "        \n",
    "    with gr.Row(visible=True) as r3:\n",
    "        button2 = gr.Button(\"Restart\")\n",
    "        \n",
    "    def submit(sentence):\n",
    "        res = {md0:\"\"}\n",
    "        responses = query_index('chat_records', sentence)\n",
    "        for response in responses:     \n",
    "            res[md0] += \"### \" + str(response[1]) + \": \" + str(response[0]) + \"\\n\"\n",
    "        res[r1] = gr.update(visible=False)\n",
    "        res[r2] = gr.update(visible=False)\n",
    "        return res\n",
    "        \n",
    "    def restart():\n",
    "        res = {}\n",
    "        \n",
    "        res[md0] = \"\"\"Hi, I will find top 30 user chat records that are most relevant to your sentence or word ^^\"\"\"\n",
    "        res[sentence] = ''\n",
    "        res[r1] = gr.update(visible=True)\n",
    "        res[r2] = gr.update(visible=True)\n",
    "        \n",
    "        return res\n",
    "    \n",
    "    button.click(fn=submit, inputs=[sentence], outputs=[md0, r1, r2, r3])\n",
    "    \n",
    "    button2.click(fn=restart, inputs=None, outputs=[md0, r1, r2, r3, sentence])\n",
    "    \n",
    "demo.launch(share=True, debug=False)"
   ]
  },
  {
   "cell_type": "code",
   "execution_count": 36,
   "id": "e26c1733-69ae-45c0-874a-2de4df5e8f72",
   "metadata": {},
   "outputs": [],
   "source": [
    "with open('categories.csv') as f:\n",
    "    reader = csv.reader(f, delimiter=',')\n",
    "    next(reader)\n",
    "    for row in reader:\n",
    "        index = row[0]\n",
    "        subcat = row[1]\n",
    "        add_doc_to_index(index, subcat)"
   ]
  },
  {
   "cell_type": "code",
   "execution_count": 32,
   "id": "af6604c6-c110-47b6-8cb2-677d25851ecb",
   "metadata": {},
   "outputs": [
    {
     "name": "stdout",
     "output_type": "stream",
     "text": [
      "[('tornado', 0.7964211), ('wind', 0.79486805), ('snow', 0.79297185), ('general weather', 0.78826755), ('thunderstorm', 0.7850449)]\n"
     ]
    }
   ],
   "source": [
    "a = query_index('weather_info_or_prediction', 'Are there any hurricanes forming now', top_k=5)\n",
    "print(a)"
   ]
  },
  {
   "cell_type": "code",
   "execution_count": 38,
   "id": "f246e290-f50a-4119-a5bc-a50c573944e1",
   "metadata": {},
   "outputs": [],
   "source": [
    "with open('category_analysis_2.csv') as f:\n",
    "    reader = csv.reader(f, delimiter='|')\n",
    "    next(reader)\n",
    "    with open('category_analysis_3.csv', 'a') as f1:\n",
    "        writer = csv.writer(f1, delimiter='|')\n",
    "        for row in reader:\n",
    "            prompt = row[0]\n",
    "            cat = row[1].replace(' ', '_').replace('explanation_on', 'explanation_of')\n",
    "            temp, prob = query_index(cat, prompt, top_k=1)[0]\n",
    "            if prob > 0.82:\n",
    "                subcat = temp\n",
    "            else:\n",
    "                subcat = 'other'\n",
    "            writer.writerow([prompt, cat, subcat])\n",
    "            "
   ]
  },
  {
   "cell_type": "code",
   "execution_count": null,
   "id": "c4896d75-d977-4b6f-8851-8306ad2e8d2b",
   "metadata": {},
   "outputs": [],
   "source": []
  }
 ],
 "metadata": {
  "environment": {
   "kernel": "python3",
   "name": "pytorch-gpu.1-13.m108",
   "type": "gcloud",
   "uri": "gcr.io/deeplearning-platform-release/pytorch-gpu.1-13:m108"
  },
  "kernelspec": {
   "display_name": "Python 3",
   "language": "python",
   "name": "python3"
  },
  "language_info": {
   "codemirror_mode": {
    "name": "ipython",
    "version": 3
   },
   "file_extension": ".py",
   "mimetype": "text/x-python",
   "name": "python",
   "nbconvert_exporter": "python",
   "pygments_lexer": "ipython3",
   "version": "3.10.10"
  }
 },
 "nbformat": 4,
 "nbformat_minor": 5
}
